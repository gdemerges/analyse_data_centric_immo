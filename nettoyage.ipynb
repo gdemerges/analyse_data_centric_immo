{
 "cells": [
  {
   "cell_type": "markdown",
   "metadata": {},
   "source": [
    "# Importation du txt"
   ]
  },
  {
   "cell_type": "code",
   "execution_count": null,
   "metadata": {},
   "outputs": [],
   "source": [
    "import pandas as pd\n",
    "\n",
    "df = pd.read_csv('data/valeursfoncieres-2022.txt', delimiter='|')\n",
    "\n",
    "pd.set_option('display.max_columns', 43)\n",
    "df"
   ]
  },
  {
   "cell_type": "markdown",
   "metadata": {},
   "source": [
    "# Pour vérifier les valeurs qui sont entièrement NaN ou pas"
   ]
  },
  {
   "cell_type": "code",
   "execution_count": null,
   "metadata": {},
   "outputs": [],
   "source": [
    "nan_full = df['Nature culture speciale'].isna().all()\n",
    "\n",
    "print(nan_full)"
   ]
  },
  {
   "cell_type": "markdown",
   "metadata": {},
   "source": [
    "# Suppression des colonnes qui sont entièrement NaN"
   ]
  },
  {
   "cell_type": "code",
   "execution_count": null,
   "metadata": {},
   "outputs": [],
   "source": [
    "df.dropna(axis=1, how='all', inplace=True)"
   ]
  },
  {
   "cell_type": "markdown",
   "metadata": {},
   "source": [
    "# Changement de date en int"
   ]
  },
  {
   "cell_type": "code",
   "execution_count": null,
   "metadata": {},
   "outputs": [],
   "source": [
    "df['Date mutation'] = pd.to_datetime(df['Date mutation'], format='%d/%m/%Y')\n",
    "df['Date en int'] = df['Date mutation'].dt.year * 10000 + df['Date mutation'].dt.month * 100 + df['Date mutation'].dt.day\n",
    "\n",
    "print(df[['Date mutation', 'Date en int']].head())"
   ]
  },
  {
   "cell_type": "markdown",
   "metadata": {},
   "source": [
    "# Vérifier combien de valeurs sont NaN"
   ]
  },
  {
   "cell_type": "code",
   "execution_count": null,
   "metadata": {},
   "outputs": [],
   "source": [
    "nan_counts = df.isna().sum()\n",
    "\n",
    "nan_counts = nan_counts[nan_counts > 0]\n",
    "\n",
    "print(nan_counts)"
   ]
  },
  {
   "cell_type": "markdown",
   "metadata": {},
   "source": [
    "# Suppression des colonnes inutiles"
   ]
  },
  {
   "cell_type": "code",
   "execution_count": null,
   "metadata": {},
   "outputs": [],
   "source": [
    "colonnes_inutiles = [\n",
    "    '3eme lot', 'Surface Carrez du 3eme lot',\n",
    "    '4eme lot', 'Surface Carrez du 4eme lot',\n",
    "    '5eme lot', 'Surface Carrez du 5eme lot',\n",
    "    'Nature culture', 'Nature culture speciale',\n",
    "    'Code type local'\n",
    "]\n",
    "df = df.drop(columns=colonnes_inutiles, axis=1)"
   ]
  }
 ],
 "metadata": {
  "language_info": {
   "name": "python"
  }
 },
 "nbformat": 4,
 "nbformat_minor": 2
}
